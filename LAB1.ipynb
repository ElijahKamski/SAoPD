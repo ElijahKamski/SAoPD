{
 "cells": [
  {
   "cell_type": "markdown",
   "id": "080e4dd1",
   "metadata": {},
   "source": [
    "# Лабораторная работа №1 \n",
    "## Выполнил студент группы БВТ2003 Хрипков Ярослав Сергеевич\n",
    "### Задание 1"
   ]
  },
  {
   "cell_type": "code",
   "execution_count": 1,
   "id": "07e115f1",
   "metadata": {},
   "outputs": [
    {
     "name": "stdout",
     "output_type": "stream",
     "text": [
      "Hello, World!\n"
     ]
    }
   ],
   "source": [
    "print(\"Hello, World!\")"
   ]
  },
  {
   "cell_type": "markdown",
   "id": "4896fcfc",
   "metadata": {},
   "source": [
    "### Задание 2"
   ]
  },
  {
   "cell_type": "code",
   "execution_count": 2,
   "id": "0b1e686f",
   "metadata": {},
   "outputs": [],
   "source": [
    "from random import randint\n",
    "def generate_matrix(n:int=50, m:int=50, min_limit:int=-250, max_limit:int=1000):\n",
    "    return [[randint(min_limit, max_limit) for j in range(m)] for i in range(n)]\n",
    "\n",
    "\n",
    "def print_pretty(matrix:list[list[int]]):\n",
    "    for i in range(len(matrix)):\n",
    "        for j in matrix[i]:\n",
    "            print(j, end='\\t')\n",
    "        print('\\n')"
   ]
  },
  {
   "cell_type": "code",
   "execution_count": 3,
   "id": "a9d65d21",
   "metadata": {},
   "outputs": [
    {
     "name": "stdout",
     "output_type": "stream",
     "text": [
      "792\t174\t375\t73\t679\t281\t682\t208\t771\t729\t\n",
      "\n",
      "249\t-169\t973\t221\t433\t92\t420\t463\t542\t-122\t\n",
      "\n",
      "-227\t-31\t256\t590\t648\t-172\t418\t575\t222\t-164\t\n",
      "\n",
      "798\t-50\t675\t109\t323\t6\t999\t574\t91\t91\t\n",
      "\n",
      "-118\t697\t300\t188\t390\t427\t246\t-171\t103\t-249\t\n",
      "\n"
     ]
    }
   ],
   "source": [
    "print_pretty(generate_matrix(n=5, m=10))"
   ]
  },
  {
   "cell_type": "markdown",
   "id": "17885276",
   "metadata": {},
   "source": [
    "### Задание 3"
   ]
  },
  {
   "cell_type": "code",
   "execution_count": 56,
   "id": "833ff8f0",
   "metadata": {},
   "outputs": [],
   "source": [
    "import copy"
   ]
  },
  {
   "cell_type": "code",
   "execution_count": 58,
   "id": "965f3793",
   "metadata": {},
   "outputs": [],
   "source": [
    "def apply(matrix:list[list[int]], func):\n",
    "    return list(map(func, copy.deepcopy(matrix)))"
   ]
  },
  {
   "cell_type": "code",
   "execution_count": 81,
   "id": "d3fe0dc9",
   "metadata": {},
   "outputs": [],
   "source": [
    "def check(matrix:list[list[int]], func):\n",
    "    srt = apply(matrix, sorted)\n",
    "    my_ans = apply(matrix, func)\n",
    "    for i in range(len(matrix)):\n",
    "        for j in range(len(matrix[i])):\n",
    "            if my_ans[i][j]!=srt[i][j]:\n",
    "                print(my_ans[i][j], srt[i][j])\n",
    "                print(my_ans[i], srt[i])\n",
    "                return False\n",
    "    return True"
   ]
  },
  {
   "cell_type": "code",
   "execution_count": 60,
   "id": "492cb4b9",
   "metadata": {},
   "outputs": [],
   "source": [
    "matrix=generate_matrix(10,10)"
   ]
  },
  {
   "cell_type": "markdown",
   "id": "a46758fb",
   "metadata": {},
   "source": [
    "Сортировка выбором:"
   ]
  },
  {
   "cell_type": "code",
   "execution_count": 61,
   "id": "9732f164",
   "metadata": {},
   "outputs": [],
   "source": [
    "def selection_sort(lst:list[int]):\n",
    "    for i in range(len(lst)):\n",
    "        mxi=0\n",
    "        for j in range(len(lst)-i):\n",
    "            if(lst[j]>lst[mxi]):\n",
    "                mxi=j\n",
    "        lst[len(lst)-i-1],lst[mxi]=lst[mxi],lst[len(lst)-i-1]\n",
    "    return lst"
   ]
  },
  {
   "cell_type": "code",
   "execution_count": 62,
   "id": "3e35221d",
   "metadata": {},
   "outputs": [
    {
     "data": {
      "text/plain": [
       "True"
      ]
     },
     "execution_count": 62,
     "metadata": {},
     "output_type": "execute_result"
    }
   ],
   "source": [
    "check(matrix, selection_sort)"
   ]
  },
  {
   "cell_type": "markdown",
   "id": "83ca4b0b",
   "metadata": {},
   "source": [
    "Сортировка вставкой:"
   ]
  },
  {
   "cell_type": "code",
   "execution_count": 9,
   "id": "d9be50d5",
   "metadata": {},
   "outputs": [],
   "source": [
    "def insertion_sort(mas:list[int]):\n",
    "    for i in range(1, len(mas)):\n",
    "        j=i-1\n",
    "        item=mas[i]\n",
    "        while item<mas[j] and j>=0:\n",
    "            mas[j+1], mas[j]=mas[j],mas[j+1]\n",
    "            j-=1\n",
    "    return mas"
   ]
  },
  {
   "cell_type": "code",
   "execution_count": 64,
   "id": "36ca933b",
   "metadata": {},
   "outputs": [
    {
     "data": {
      "text/plain": [
       "True"
      ]
     },
     "execution_count": 64,
     "metadata": {},
     "output_type": "execute_result"
    }
   ],
   "source": [
    "check(matrix, insertion_sort)"
   ]
  },
  {
   "cell_type": "markdown",
   "id": "0eb51385",
   "metadata": {},
   "source": [
    "Сортировка обменом:"
   ]
  },
  {
   "cell_type": "code",
   "execution_count": 11,
   "id": "778c8e9f",
   "metadata": {},
   "outputs": [],
   "source": [
    "def swap_sort(mas:list[int]):\n",
    "    for j in range(len(mas)):\n",
    "        for i in range(1,len(mas)):\n",
    "            if(mas[i-1]>mas[i]):\n",
    "                mas[i-1],mas[i]=mas[i],mas[i-1]\n",
    "    return mas"
   ]
  },
  {
   "cell_type": "code",
   "execution_count": 66,
   "id": "5d6514de",
   "metadata": {},
   "outputs": [
    {
     "data": {
      "text/plain": [
       "True"
      ]
     },
     "execution_count": 66,
     "metadata": {},
     "output_type": "execute_result"
    }
   ],
   "source": [
    "check(matrix, swap_sort)"
   ]
  },
  {
   "cell_type": "markdown",
   "id": "b927921d",
   "metadata": {},
   "source": [
    "Сортировка Шелла:"
   ]
  },
  {
   "cell_type": "code",
   "execution_count": 13,
   "id": "dfaddefd",
   "metadata": {},
   "outputs": [],
   "source": [
    "def shell_sort(data:list[int]):\n",
    "    last_index = len(data) - 1\n",
    "    step = len(data)//2\n",
    "    while step > 0:\n",
    "        for i in range(step, last_index + 1, 1):\n",
    "            j = i\n",
    "            delta = j - step\n",
    "            while delta >= 0 and data[delta] > data[j]:\n",
    "                data[delta], data[j] = data[j], data[delta]\n",
    "                j = delta\n",
    "                delta = j - step\n",
    "        step //= 2\n",
    "    return data"
   ]
  },
  {
   "cell_type": "code",
   "execution_count": 68,
   "id": "1af2ee82",
   "metadata": {},
   "outputs": [
    {
     "data": {
      "text/plain": [
       "True"
      ]
     },
     "execution_count": 68,
     "metadata": {},
     "output_type": "execute_result"
    }
   ],
   "source": [
    "check(matrix, shell_sort)"
   ]
  },
  {
   "cell_type": "markdown",
   "id": "84505e7c",
   "metadata": {},
   "source": [
    "Пирамидальная сортировка"
   ]
  },
  {
   "cell_type": "code",
   "execution_count": 118,
   "id": "8a95839c",
   "metadata": {},
   "outputs": [],
   "source": [
    "def heapify(end:int,i:int, mas:list[int]):   \n",
    "    l=2 * i + 1  \n",
    "    r=2 * (i + 1)   \n",
    "    max=i   \n",
    "    if l < end and mas[i] < mas[l]:   \n",
    "        max = l   \n",
    "    if r < end and mas[max] < mas[r]:   \n",
    "        max = r   \n",
    "    if max != i:   \n",
    "        mas[i],mas[max]=mas[max],mas[i]\n",
    "        heapify(end, max, mas)   \n",
    "def heap_sort(mas:list[int]):\n",
    "    end=len(mas)\n",
    "    for i in range(len(mas)//2, -1, -1):\n",
    "        heapify(end, i, mas)\n",
    "    for i in range(len(mas)-1, 0, -1):   \n",
    "        mas[i], mas[0]=mas[0],mas[i]   \n",
    "        heapify(i, 0, mas)\n",
    "    return mas"
   ]
  },
  {
   "cell_type": "code",
   "execution_count": 119,
   "id": "92472504",
   "metadata": {},
   "outputs": [
    {
     "data": {
      "text/plain": [
       "True"
      ]
     },
     "execution_count": 119,
     "metadata": {},
     "output_type": "execute_result"
    }
   ],
   "source": [
    "check(matrix, heap_sort)"
   ]
  },
  {
   "cell_type": "markdown",
   "id": "67a228b3",
   "metadata": {},
   "source": [
    "Турнирная сортировка:"
   ]
  },
  {
   "cell_type": "code",
   "execution_count": 120,
   "id": "c3e01f49",
   "metadata": {},
   "outputs": [],
   "source": [
    "import heapq"
   ]
  },
  {
   "cell_type": "code",
   "execution_count": 122,
   "id": "746775fb",
   "metadata": {},
   "outputs": [],
   "source": [
    "def tournament_sort(mas:list[int]):\n",
    "    if(len(mas)<17):\n",
    "        return heap_sort(mas)\n",
    "    res = mas[:16]\n",
    "    heapq.heapify(res)\n",
    "    winners=[]\n",
    "    losers=[]\n",
    "    for i in range(16,len(mas)):\n",
    "        if(mas[i]<heapq.nsmallest(1,res)[0]):\n",
    "            losers.append(mas[i])\n",
    "        else:\n",
    "            winners.append(heapq.heappushpop(res, mas[i]))\n",
    "    while (len(res)):\n",
    "            winners.append(heapq.heappop(res))\n",
    "    final=losers+winners\n",
    "    heapq.heapify(final)\n",
    "    ans=[heapq.heappop(final) for i in range(len(mas))]\n",
    "    return ans"
   ]
  },
  {
   "cell_type": "code",
   "execution_count": 123,
   "id": "154b5b25",
   "metadata": {},
   "outputs": [
    {
     "data": {
      "text/plain": [
       "True"
      ]
     },
     "execution_count": 123,
     "metadata": {},
     "output_type": "execute_result"
    }
   ],
   "source": [
    "check(matrix, tournament_sort)"
   ]
  },
  {
   "cell_type": "markdown",
   "id": "a61fe72f",
   "metadata": {},
   "source": [
    "Быстрая сортировка(Lomuto):"
   ]
  },
  {
   "cell_type": "code",
   "execution_count": 126,
   "id": "c8adf011",
   "metadata": {},
   "outputs": [],
   "source": [
    "def partition(array, start, end):\n",
    "    pivot = array[start]\n",
    "    low = start + 1\n",
    "    high = end\n",
    "\n",
    "    while True:\n",
    "        while low <= high and array[high] >= pivot:\n",
    "            high = high - 1\n",
    "\n",
    "        while low <= high and array[low] <= pivot:\n",
    "            low = low + 1\n",
    "        if low <= high:\n",
    "            array[low], array[high] = array[high], array[low]\n",
    "        else:\n",
    "            break\n",
    "\n",
    "    array[start], array[high] = array[high], array[start]\n",
    "\n",
    "    return high\n",
    "\n",
    "def qsort(A, l, r):\n",
    "    while r-l>0:\n",
    "        m=partition(A, l, r)\n",
    "        qsort(A, l, m-1)\n",
    "        l=m+1\n",
    "    return A\n",
    "\n",
    "def launch_qsort(mas:list[int]):\n",
    "    return qsort(mas, 0, len(mas)-1)"
   ]
  },
  {
   "cell_type": "code",
   "execution_count": 127,
   "id": "4e9320f0",
   "metadata": {},
   "outputs": [
    {
     "data": {
      "text/plain": [
       "True"
      ]
     },
     "execution_count": 127,
     "metadata": {},
     "output_type": "execute_result"
    }
   ],
   "source": [
    "check(matrix, launch_qsort)"
   ]
  },
  {
   "cell_type": "markdown",
   "id": "9cfc0f01",
   "metadata": {},
   "source": [
    "Проверим скорость работы каждого алгоритма"
   ]
  },
  {
   "cell_type": "code",
   "execution_count": 155,
   "id": "e1ca99cb",
   "metadata": {},
   "outputs": [],
   "source": [
    "matrix=generate_matrix()"
   ]
  },
  {
   "cell_type": "code",
   "execution_count": 156,
   "id": "6bf9f3fb",
   "metadata": {},
   "outputs": [
    {
     "name": "stdout",
     "output_type": "stream",
     "text": [
      "18 ms ± 635 µs per loop (mean ± std. dev. of 7 runs, 100 loops each)\n"
     ]
    }
   ],
   "source": [
    "%timeit apply(matrix, swap_sort)"
   ]
  },
  {
   "cell_type": "code",
   "execution_count": 157,
   "id": "ab98949f",
   "metadata": {},
   "outputs": [
    {
     "name": "stdout",
     "output_type": "stream",
     "text": [
      "7.69 ms ± 408 µs per loop (mean ± std. dev. of 7 runs, 100 loops each)\n"
     ]
    }
   ],
   "source": [
    "%timeit apply(matrix, selection_sort)"
   ]
  },
  {
   "cell_type": "code",
   "execution_count": 158,
   "id": "598972be",
   "metadata": {},
   "outputs": [
    {
     "name": "stdout",
     "output_type": "stream",
     "text": [
      "8.71 ms ± 468 µs per loop (mean ± std. dev. of 7 runs, 100 loops each)\n"
     ]
    }
   ],
   "source": [
    "%timeit apply(matrix, insertion_sort)"
   ]
  },
  {
   "cell_type": "code",
   "execution_count": 163,
   "id": "75fa7a56",
   "metadata": {},
   "outputs": [
    {
     "name": "stdout",
     "output_type": "stream",
     "text": [
      "5.5 ms ± 674 µs per loop (mean ± std. dev. of 7 runs, 100 loops each)\n"
     ]
    }
   ],
   "source": [
    "%timeit apply(matrix, shell_sort)"
   ]
  },
  {
   "cell_type": "code",
   "execution_count": 159,
   "id": "7181225c",
   "metadata": {},
   "outputs": [
    {
     "name": "stdout",
     "output_type": "stream",
     "text": [
      "7.65 ms ± 426 µs per loop (mean ± std. dev. of 7 runs, 100 loops each)\n"
     ]
    }
   ],
   "source": [
    "%timeit apply(matrix, heap_sort)"
   ]
  },
  {
   "cell_type": "code",
   "execution_count": 160,
   "id": "7ba1e19c",
   "metadata": {},
   "outputs": [
    {
     "name": "stdout",
     "output_type": "stream",
     "text": [
      "4.6 ms ± 364 µs per loop (mean ± std. dev. of 7 runs, 100 loops each)\n"
     ]
    }
   ],
   "source": [
    "%timeit apply(matrix, tournament_sort)"
   ]
  },
  {
   "cell_type": "code",
   "execution_count": 161,
   "id": "6fce2e5f",
   "metadata": {},
   "outputs": [
    {
     "name": "stdout",
     "output_type": "stream",
     "text": [
      "4.05 ms ± 117 µs per loop (mean ± std. dev. of 7 runs, 100 loops each)\n"
     ]
    }
   ],
   "source": [
    "%timeit apply(matrix, launch_qsort)"
   ]
  },
  {
   "cell_type": "code",
   "execution_count": 162,
   "id": "8a8bda5d",
   "metadata": {},
   "outputs": [
    {
     "name": "stdout",
     "output_type": "stream",
     "text": [
      "1.44 ms ± 55.5 µs per loop (mean ± std. dev. of 7 runs, 1000 loops each)\n"
     ]
    }
   ],
   "source": [
    "%timeit apply(matrix, sorted)"
   ]
  }
 ],
 "metadata": {
  "kernelspec": {
   "display_name": "Python 3 (ipykernel)",
   "language": "python",
   "name": "python3"
  },
  "language_info": {
   "codemirror_mode": {
    "name": "ipython",
    "version": 3
   },
   "file_extension": ".py",
   "mimetype": "text/x-python",
   "name": "python",
   "nbconvert_exporter": "python",
   "pygments_lexer": "ipython3",
   "version": "3.9.7"
  }
 },
 "nbformat": 4,
 "nbformat_minor": 5
}
